{
 "cells": [
  {
   "cell_type": "code",
   "execution_count": 93,
   "metadata": {},
   "outputs": [],
   "source": [
    "import pandas as pd"
   ]
  },
  {
   "cell_type": "code",
   "execution_count": 55,
   "metadata": {},
   "outputs": [],
   "source": [
    "df2 = pd.read_parquet('de_train.parquet', engine='pyarrow')"
   ]
  },
  {
   "cell_type": "code",
   "execution_count": 58,
   "metadata": {},
   "outputs": [],
   "source": [
    "missing_genes = ['LAMA3', 'GHR', 'PHKA1','KIF20A','CDC45','WASF3','EGF','PRR15L','TJP1','RAP1GAP','CDH3',\n",
    " 'FAT1','FGFR2', 'MMP1','EPHA3','TERT','BAMBI','SPDEF','SNAP25','TSKU','BMP4',\n",
    " 'COL1A1','TBX2','EGFR','FUT1','GATA2','NFATC4','GRB7','TFAP2A','SOX2','ABCB6','KCNK1','FGFR4','ST6GALNAC2','ETV1','HOXA5','CDC25A',\n",
    " 'GLI2','COL4A1','CDC20','HMGA2']"
   ]
  },
  {
   "cell_type": "code",
   "execution_count": 73,
   "metadata": {},
   "outputs": [],
   "source": [
    "genes = pd.read_csv('../CIGER/data/gene_feature.csv', header=None)"
   ]
  },
  {
   "cell_type": "code",
   "execution_count": 75,
   "metadata": {},
   "outputs": [],
   "source": [
    "#make a set of genes that I need to get from the Kaggle data\n",
    "gene_array = set(genes[0])"
   ]
  },
  {
   "cell_type": "code",
   "execution_count": 62,
   "metadata": {},
   "outputs": [],
   "source": [
    "#rename genes that I know are different between the datasets\n",
    "df2 = df2.rename(columns={\"TENT4A\":\"PAPD7\", 'CIAO3':'NARFL', 'CEMIP2':'TMEM2', 'ELP1':'IKBKAP', 'HDGFL3':'HDGFRP3', 'JPT2':'HN1L', 'KHDC4':'KIAA0907', 'REXO2':'SFN', 'RXYLT1':'TMEM5', 'SQOR':'SQRDL', 'STIMATE':'TMEM110'})"
   ]
  },
  {
   "cell_type": "code",
   "execution_count": 64,
   "metadata": {},
   "outputs": [],
   "source": [
    "df2_cols = df2.columns"
   ]
  },
  {
   "cell_type": "code",
   "execution_count": 65,
   "metadata": {},
   "outputs": [],
   "source": [
    "#remove genes that aren't in the L1000 gene set\n",
    "df2_drop = [gene for gene in df2_cols[5:] if gene not in gene_array]"
   ]
  },
  {
   "cell_type": "code",
   "execution_count": 66,
   "metadata": {},
   "outputs": [],
   "source": [
    "df2 = df2.drop(df2_drop, axis=1)"
   ]
  },
  {
   "cell_type": "code",
   "execution_count": 67,
   "metadata": {},
   "outputs": [],
   "source": [
    "new_genes = set(df2.columns[5:])"
   ]
  },
  {
   "cell_type": "code",
   "execution_count": 77,
   "metadata": {},
   "outputs": [],
   "source": [
    "#Make missing_genes list, which tells me which genes I need to remove from CIGER data's gene_feature.csv\n",
    "missing_genes = set()\n",
    "for i in gene_array:\n",
    "    if i not in new_genes:\n",
    "        missing_genes.add(i)"
   ]
  },
  {
   "cell_type": "code",
   "execution_count": 90,
   "metadata": {},
   "outputs": [],
   "source": [
    "#Remove the genes I don't have data for, and save the genes to a csv for kaggle in alphabetical order\n",
    "for ind, gene in enumerate(genes[0]):\n",
    "    if gene in missing_genes:\n",
    "        genes = genes.drop(index=ind)\n",
    "genes = genes.sort_values(0)\n",
    "genes.to_csv('gene_feature_kaggle.csv', header=False, index=False)"
   ]
  },
  {
   "cell_type": "markdown",
   "metadata": {},
   "source": [
    "# Make drug_smiles_kaggle.csv and drug_id_kaggle.csv\n"
   ]
  },
  {
   "cell_type": "code",
   "execution_count": 170,
   "metadata": {},
   "outputs": [],
   "source": [
    "df = pd.read_parquet('adata_train.parquet', engine='pyarrow')"
   ]
  },
  {
   "cell_type": "code",
   "execution_count": 171,
   "metadata": {},
   "outputs": [
    {
     "data": {
      "text/html": [
       "<div>\n",
       "<style scoped>\n",
       "    .dataframe tbody tr th:only-of-type {\n",
       "        vertical-align: middle;\n",
       "    }\n",
       "\n",
       "    .dataframe tbody tr th {\n",
       "        vertical-align: top;\n",
       "    }\n",
       "\n",
       "    .dataframe thead th {\n",
       "        text-align: right;\n",
       "    }\n",
       "</style>\n",
       "<table border=\"1\" class=\"dataframe\">\n",
       "  <thead>\n",
       "    <tr style=\"text-align: right;\">\n",
       "      <th></th>\n",
       "      <th>obs_id</th>\n",
       "      <th>gene</th>\n",
       "      <th>count</th>\n",
       "      <th>normalized_count</th>\n",
       "    </tr>\n",
       "  </thead>\n",
       "  <tbody>\n",
       "    <tr>\n",
       "      <th>0</th>\n",
       "      <td>000006a87ba75b72</td>\n",
       "      <td>AATF</td>\n",
       "      <td>1</td>\n",
       "      <td>5.567933</td>\n",
       "    </tr>\n",
       "    <tr>\n",
       "      <th>1</th>\n",
       "      <td>000006a87ba75b72</td>\n",
       "      <td>ABHD12</td>\n",
       "      <td>1</td>\n",
       "      <td>5.567933</td>\n",
       "    </tr>\n",
       "    <tr>\n",
       "      <th>2</th>\n",
       "      <td>000006a87ba75b72</td>\n",
       "      <td>ABHD3</td>\n",
       "      <td>1</td>\n",
       "      <td>5.567933</td>\n",
       "    </tr>\n",
       "    <tr>\n",
       "      <th>3</th>\n",
       "      <td>000006a87ba75b72</td>\n",
       "      <td>AC004687.1</td>\n",
       "      <td>1</td>\n",
       "      <td>5.567933</td>\n",
       "    </tr>\n",
       "    <tr>\n",
       "      <th>4</th>\n",
       "      <td>000006a87ba75b72</td>\n",
       "      <td>AC009779.2</td>\n",
       "      <td>1</td>\n",
       "      <td>5.567933</td>\n",
       "    </tr>\n",
       "    <tr>\n",
       "      <th>...</th>\n",
       "      <td>...</td>\n",
       "      <td>...</td>\n",
       "      <td>...</td>\n",
       "      <td>...</td>\n",
       "    </tr>\n",
       "    <tr>\n",
       "      <th>416442307</th>\n",
       "      <td>ffffe67500d95d8d</td>\n",
       "      <td>ZSWIM7</td>\n",
       "      <td>1</td>\n",
       "      <td>4.205181</td>\n",
       "    </tr>\n",
       "    <tr>\n",
       "      <th>416442308</th>\n",
       "      <td>ffffe67500d95d8d</td>\n",
       "      <td>ZSWIM8</td>\n",
       "      <td>1</td>\n",
       "      <td>4.205181</td>\n",
       "    </tr>\n",
       "    <tr>\n",
       "      <th>416442309</th>\n",
       "      <td>ffffe67500d95d8d</td>\n",
       "      <td>ZUP1</td>\n",
       "      <td>1</td>\n",
       "      <td>4.205181</td>\n",
       "    </tr>\n",
       "    <tr>\n",
       "      <th>416442310</th>\n",
       "      <td>ffffe67500d95d8d</td>\n",
       "      <td>ZXDB</td>\n",
       "      <td>1</td>\n",
       "      <td>4.205181</td>\n",
       "    </tr>\n",
       "    <tr>\n",
       "      <th>416442311</th>\n",
       "      <td>ffffe67500d95d8d</td>\n",
       "      <td>ZYX</td>\n",
       "      <td>4</td>\n",
       "      <td>5.580224</td>\n",
       "    </tr>\n",
       "  </tbody>\n",
       "</table>\n",
       "<p>416442312 rows × 4 columns</p>\n",
       "</div>"
      ],
      "text/plain": [
       "                     obs_id        gene  count  normalized_count\n",
       "0          000006a87ba75b72        AATF      1          5.567933\n",
       "1          000006a87ba75b72      ABHD12      1          5.567933\n",
       "2          000006a87ba75b72       ABHD3      1          5.567933\n",
       "3          000006a87ba75b72  AC004687.1      1          5.567933\n",
       "4          000006a87ba75b72  AC009779.2      1          5.567933\n",
       "...                     ...         ...    ...               ...\n",
       "416442307  ffffe67500d95d8d      ZSWIM7      1          4.205181\n",
       "416442308  ffffe67500d95d8d      ZSWIM8      1          4.205181\n",
       "416442309  ffffe67500d95d8d        ZUP1      1          4.205181\n",
       "416442310  ffffe67500d95d8d        ZXDB      1          4.205181\n",
       "416442311  ffffe67500d95d8d         ZYX      4          5.580224\n",
       "\n",
       "[416442312 rows x 4 columns]"
      ]
     },
     "execution_count": 171,
     "metadata": {},
     "output_type": "execute_result"
    }
   ],
   "source": [
    "df"
   ]
  },
  {
   "cell_type": "code",
   "execution_count": 172,
   "metadata": {},
   "outputs": [],
   "source": [
    "drug_df = pd.read_parquet('de_train.parquet', engine='pyarrow')"
   ]
  },
  {
   "cell_type": "code",
   "execution_count": 173,
   "metadata": {},
   "outputs": [
    {
     "data": {
      "text/html": [
       "<div>\n",
       "<style scoped>\n",
       "    .dataframe tbody tr th:only-of-type {\n",
       "        vertical-align: middle;\n",
       "    }\n",
       "\n",
       "    .dataframe tbody tr th {\n",
       "        vertical-align: top;\n",
       "    }\n",
       "\n",
       "    .dataframe thead th {\n",
       "        text-align: right;\n",
       "    }\n",
       "</style>\n",
       "<table border=\"1\" class=\"dataframe\">\n",
       "  <thead>\n",
       "    <tr style=\"text-align: right;\">\n",
       "      <th></th>\n",
       "      <th>cell_type</th>\n",
       "      <th>sm_name</th>\n",
       "      <th>sm_lincs_id</th>\n",
       "      <th>SMILES</th>\n",
       "      <th>control</th>\n",
       "      <th>A1BG</th>\n",
       "      <th>A1BG-AS1</th>\n",
       "      <th>A2M</th>\n",
       "      <th>A2M-AS1</th>\n",
       "      <th>A2MP1</th>\n",
       "      <th>...</th>\n",
       "      <th>ZUP1</th>\n",
       "      <th>ZW10</th>\n",
       "      <th>ZWILCH</th>\n",
       "      <th>ZWINT</th>\n",
       "      <th>ZXDA</th>\n",
       "      <th>ZXDB</th>\n",
       "      <th>ZXDC</th>\n",
       "      <th>ZYG11B</th>\n",
       "      <th>ZYX</th>\n",
       "      <th>ZZEF1</th>\n",
       "    </tr>\n",
       "  </thead>\n",
       "  <tbody>\n",
       "    <tr>\n",
       "      <th>609</th>\n",
       "      <td>T regulatory cells</td>\n",
       "      <td>Atorvastatin</td>\n",
       "      <td>LSM-5771</td>\n",
       "      <td>CC(C)c1c(C(=O)Nc2ccccc2)c(-c2ccccc2)c(-c2ccc(F...</td>\n",
       "      <td>False</td>\n",
       "      <td>-0.014372</td>\n",
       "      <td>-0.122464</td>\n",
       "      <td>-0.456366</td>\n",
       "      <td>-0.147894</td>\n",
       "      <td>-0.545382</td>\n",
       "      <td>...</td>\n",
       "      <td>-0.549987</td>\n",
       "      <td>-2.200925</td>\n",
       "      <td>0.359806</td>\n",
       "      <td>1.073983</td>\n",
       "      <td>0.356939</td>\n",
       "      <td>-0.029603</td>\n",
       "      <td>-0.528817</td>\n",
       "      <td>0.105138</td>\n",
       "      <td>0.491015</td>\n",
       "      <td>-0.979951</td>\n",
       "    </tr>\n",
       "    <tr>\n",
       "      <th>610</th>\n",
       "      <td>NK cells</td>\n",
       "      <td>Riociguat</td>\n",
       "      <td>LSM-45758</td>\n",
       "      <td>COC(=O)N(C)c1c(N)nc(-c2nn(Cc3ccccc3F)c3ncccc23...</td>\n",
       "      <td>False</td>\n",
       "      <td>-0.455549</td>\n",
       "      <td>0.188181</td>\n",
       "      <td>0.595734</td>\n",
       "      <td>-0.100299</td>\n",
       "      <td>0.786192</td>\n",
       "      <td>...</td>\n",
       "      <td>-1.236905</td>\n",
       "      <td>0.003854</td>\n",
       "      <td>-0.197569</td>\n",
       "      <td>-0.175307</td>\n",
       "      <td>0.101391</td>\n",
       "      <td>1.028394</td>\n",
       "      <td>0.034144</td>\n",
       "      <td>-0.231642</td>\n",
       "      <td>1.023994</td>\n",
       "      <td>-0.064760</td>\n",
       "    </tr>\n",
       "    <tr>\n",
       "      <th>611</th>\n",
       "      <td>T cells CD4+</td>\n",
       "      <td>Riociguat</td>\n",
       "      <td>LSM-45758</td>\n",
       "      <td>COC(=O)N(C)c1c(N)nc(-c2nn(Cc3ccccc3F)c3ncccc23...</td>\n",
       "      <td>False</td>\n",
       "      <td>0.338168</td>\n",
       "      <td>-0.109079</td>\n",
       "      <td>0.270182</td>\n",
       "      <td>-0.436586</td>\n",
       "      <td>-0.069476</td>\n",
       "      <td>...</td>\n",
       "      <td>0.077579</td>\n",
       "      <td>-1.101637</td>\n",
       "      <td>0.457201</td>\n",
       "      <td>0.535184</td>\n",
       "      <td>-0.198404</td>\n",
       "      <td>-0.005004</td>\n",
       "      <td>0.552810</td>\n",
       "      <td>-0.209077</td>\n",
       "      <td>0.389751</td>\n",
       "      <td>-0.337082</td>\n",
       "    </tr>\n",
       "    <tr>\n",
       "      <th>612</th>\n",
       "      <td>T cells CD8+</td>\n",
       "      <td>Riociguat</td>\n",
       "      <td>LSM-45758</td>\n",
       "      <td>COC(=O)N(C)c1c(N)nc(-c2nn(Cc3ccccc3F)c3ncccc23...</td>\n",
       "      <td>False</td>\n",
       "      <td>0.101138</td>\n",
       "      <td>-0.409724</td>\n",
       "      <td>-0.606292</td>\n",
       "      <td>-0.071300</td>\n",
       "      <td>-0.001789</td>\n",
       "      <td>...</td>\n",
       "      <td>0.005951</td>\n",
       "      <td>-0.893093</td>\n",
       "      <td>-1.003029</td>\n",
       "      <td>-0.080367</td>\n",
       "      <td>-0.076604</td>\n",
       "      <td>0.024849</td>\n",
       "      <td>0.012862</td>\n",
       "      <td>-0.029684</td>\n",
       "      <td>0.005506</td>\n",
       "      <td>-1.733112</td>\n",
       "    </tr>\n",
       "    <tr>\n",
       "      <th>613</th>\n",
       "      <td>T regulatory cells</td>\n",
       "      <td>Riociguat</td>\n",
       "      <td>LSM-45758</td>\n",
       "      <td>COC(=O)N(C)c1c(N)nc(-c2nn(Cc3ccccc3F)c3ncccc23...</td>\n",
       "      <td>False</td>\n",
       "      <td>-0.757116</td>\n",
       "      <td>0.085910</td>\n",
       "      <td>-0.730025</td>\n",
       "      <td>-1.367801</td>\n",
       "      <td>-0.695944</td>\n",
       "      <td>...</td>\n",
       "      <td>0.232343</td>\n",
       "      <td>-2.247816</td>\n",
       "      <td>-0.346036</td>\n",
       "      <td>-0.919567</td>\n",
       "      <td>-1.131372</td>\n",
       "      <td>-0.120252</td>\n",
       "      <td>-0.064537</td>\n",
       "      <td>-0.603280</td>\n",
       "      <td>-0.098041</td>\n",
       "      <td>-0.750681</td>\n",
       "    </tr>\n",
       "  </tbody>\n",
       "</table>\n",
       "<p>5 rows × 18216 columns</p>\n",
       "</div>"
      ],
      "text/plain": [
       "              cell_type       sm_name sm_lincs_id  \\\n",
       "609  T regulatory cells  Atorvastatin    LSM-5771   \n",
       "610            NK cells     Riociguat   LSM-45758   \n",
       "611        T cells CD4+     Riociguat   LSM-45758   \n",
       "612        T cells CD8+     Riociguat   LSM-45758   \n",
       "613  T regulatory cells     Riociguat   LSM-45758   \n",
       "\n",
       "                                                SMILES  control      A1BG  \\\n",
       "609  CC(C)c1c(C(=O)Nc2ccccc2)c(-c2ccccc2)c(-c2ccc(F...    False -0.014372   \n",
       "610  COC(=O)N(C)c1c(N)nc(-c2nn(Cc3ccccc3F)c3ncccc23...    False -0.455549   \n",
       "611  COC(=O)N(C)c1c(N)nc(-c2nn(Cc3ccccc3F)c3ncccc23...    False  0.338168   \n",
       "612  COC(=O)N(C)c1c(N)nc(-c2nn(Cc3ccccc3F)c3ncccc23...    False  0.101138   \n",
       "613  COC(=O)N(C)c1c(N)nc(-c2nn(Cc3ccccc3F)c3ncccc23...    False -0.757116   \n",
       "\n",
       "     A1BG-AS1       A2M   A2M-AS1     A2MP1  ...      ZUP1      ZW10  \\\n",
       "609 -0.122464 -0.456366 -0.147894 -0.545382  ... -0.549987 -2.200925   \n",
       "610  0.188181  0.595734 -0.100299  0.786192  ... -1.236905  0.003854   \n",
       "611 -0.109079  0.270182 -0.436586 -0.069476  ...  0.077579 -1.101637   \n",
       "612 -0.409724 -0.606292 -0.071300 -0.001789  ...  0.005951 -0.893093   \n",
       "613  0.085910 -0.730025 -1.367801 -0.695944  ...  0.232343 -2.247816   \n",
       "\n",
       "       ZWILCH     ZWINT      ZXDA      ZXDB      ZXDC    ZYG11B       ZYX  \\\n",
       "609  0.359806  1.073983  0.356939 -0.029603 -0.528817  0.105138  0.491015   \n",
       "610 -0.197569 -0.175307  0.101391  1.028394  0.034144 -0.231642  1.023994   \n",
       "611  0.457201  0.535184 -0.198404 -0.005004  0.552810 -0.209077  0.389751   \n",
       "612 -1.003029 -0.080367 -0.076604  0.024849  0.012862 -0.029684  0.005506   \n",
       "613 -0.346036 -0.919567 -1.131372 -0.120252 -0.064537 -0.603280 -0.098041   \n",
       "\n",
       "        ZZEF1  \n",
       "609 -0.979951  \n",
       "610 -0.064760  \n",
       "611 -0.337082  \n",
       "612 -1.733112  \n",
       "613 -0.750681  \n",
       "\n",
       "[5 rows x 18216 columns]"
      ]
     },
     "execution_count": 173,
     "metadata": {},
     "output_type": "execute_result"
    }
   ],
   "source": [
    "drug_df.tail()"
   ]
  },
  {
   "cell_type": "code",
   "execution_count": 174,
   "metadata": {},
   "outputs": [],
   "source": [
    "drug_df = drug_df[['sm_lincs_id', 'SMILES']]"
   ]
  },
  {
   "cell_type": "code",
   "execution_count": 175,
   "metadata": {},
   "outputs": [
    {
     "data": {
      "text/html": [
       "<div>\n",
       "<style scoped>\n",
       "    .dataframe tbody tr th:only-of-type {\n",
       "        vertical-align: middle;\n",
       "    }\n",
       "\n",
       "    .dataframe tbody tr th {\n",
       "        vertical-align: top;\n",
       "    }\n",
       "\n",
       "    .dataframe thead th {\n",
       "        text-align: right;\n",
       "    }\n",
       "</style>\n",
       "<table border=\"1\" class=\"dataframe\">\n",
       "  <thead>\n",
       "    <tr style=\"text-align: right;\">\n",
       "      <th></th>\n",
       "      <th>sm_lincs_id</th>\n",
       "      <th>SMILES</th>\n",
       "    </tr>\n",
       "  </thead>\n",
       "  <tbody>\n",
       "    <tr>\n",
       "      <th>609</th>\n",
       "      <td>LSM-5771</td>\n",
       "      <td>CC(C)c1c(C(=O)Nc2ccccc2)c(-c2ccccc2)c(-c2ccc(F...</td>\n",
       "    </tr>\n",
       "    <tr>\n",
       "      <th>610</th>\n",
       "      <td>LSM-45758</td>\n",
       "      <td>COC(=O)N(C)c1c(N)nc(-c2nn(Cc3ccccc3F)c3ncccc23...</td>\n",
       "    </tr>\n",
       "    <tr>\n",
       "      <th>611</th>\n",
       "      <td>LSM-45758</td>\n",
       "      <td>COC(=O)N(C)c1c(N)nc(-c2nn(Cc3ccccc3F)c3ncccc23...</td>\n",
       "    </tr>\n",
       "    <tr>\n",
       "      <th>612</th>\n",
       "      <td>LSM-45758</td>\n",
       "      <td>COC(=O)N(C)c1c(N)nc(-c2nn(Cc3ccccc3F)c3ncccc23...</td>\n",
       "    </tr>\n",
       "    <tr>\n",
       "      <th>613</th>\n",
       "      <td>LSM-45758</td>\n",
       "      <td>COC(=O)N(C)c1c(N)nc(-c2nn(Cc3ccccc3F)c3ncccc23...</td>\n",
       "    </tr>\n",
       "  </tbody>\n",
       "</table>\n",
       "</div>"
      ],
      "text/plain": [
       "    sm_lincs_id                                             SMILES\n",
       "609    LSM-5771  CC(C)c1c(C(=O)Nc2ccccc2)c(-c2ccccc2)c(-c2ccc(F...\n",
       "610   LSM-45758  COC(=O)N(C)c1c(N)nc(-c2nn(Cc3ccccc3F)c3ncccc23...\n",
       "611   LSM-45758  COC(=O)N(C)c1c(N)nc(-c2nn(Cc3ccccc3F)c3ncccc23...\n",
       "612   LSM-45758  COC(=O)N(C)c1c(N)nc(-c2nn(Cc3ccccc3F)c3ncccc23...\n",
       "613   LSM-45758  COC(=O)N(C)c1c(N)nc(-c2nn(Cc3ccccc3F)c3ncccc23..."
      ]
     },
     "execution_count": 175,
     "metadata": {},
     "output_type": "execute_result"
    }
   ],
   "source": [
    "drug_df.tail()"
   ]
  },
  {
   "cell_type": "code",
   "execution_count": 176,
   "metadata": {},
   "outputs": [],
   "source": [
    "drug_df = drug_df.drop_duplicates()"
   ]
  },
  {
   "cell_type": "code",
   "execution_count": 177,
   "metadata": {},
   "outputs": [],
   "source": [
    "drug_df = drug_df.reset_index()"
   ]
  },
  {
   "cell_type": "code",
   "execution_count": 178,
   "metadata": {},
   "outputs": [],
   "source": [
    "drug_df = drug_df.drop('index', axis=1)"
   ]
  },
  {
   "cell_type": "code",
   "execution_count": 179,
   "metadata": {},
   "outputs": [],
   "source": [
    "#for ind, smile in enumerate(drug_df['SMILES']):\n",
    "    #drug_df.loc[ind, 'SMILES'] = smile.upper()"
   ]
  },
  {
   "cell_type": "code",
   "execution_count": 180,
   "metadata": {},
   "outputs": [],
   "source": [
    "drug_df.to_csv('drug_smiles_kaggle.csv', header=False, index=False)"
   ]
  },
  {
   "cell_type": "code",
   "execution_count": 39,
   "metadata": {},
   "outputs": [],
   "source": [
    "drug_df['sm_lincs_id'].to_csv('drug_id_kaggle', header=False, index=False)"
   ]
  },
  {
   "cell_type": "markdown",
   "metadata": {},
   "source": [
    "# Make chemical_signatures_kaggle.csv "
   ]
  },
  {
   "cell_type": "code",
   "execution_count": null,
   "metadata": {},
   "outputs": [],
   "source": [
    "#Need sig_id, pert_id, pert_type, cell_id, pert_idose, genes..."
   ]
  },
  {
   "cell_type": "code",
   "execution_count": 153,
   "metadata": {},
   "outputs": [],
   "source": [
    "drug_df = pd.read_parquet('de_train.parquet', engine='pyarrow')"
   ]
  },
  {
   "cell_type": "code",
   "execution_count": 154,
   "metadata": {},
   "outputs": [],
   "source": [
    "#drug_df = drug_df.drop([\"sm_name\", \"SMILES\", \"control\"], axis=1)"
   ]
  },
  {
   "cell_type": "code",
   "execution_count": 155,
   "metadata": {},
   "outputs": [],
   "source": [
    "genes = pd.read_csv('../CIGER/data/gene_feature.csv', header=None)"
   ]
  },
  {
   "cell_type": "code",
   "execution_count": 156,
   "metadata": {},
   "outputs": [],
   "source": [
    "#make a set of genes that I need to get from the Kaggle data\n",
    "gene_array = set(genes[0])"
   ]
  },
  {
   "cell_type": "code",
   "execution_count": 157,
   "metadata": {},
   "outputs": [],
   "source": [
    "drug_df = drug_df.rename(columns={\"TENT4A\":\"PAPD7\", 'CIAO3':'NARFL', 'CEMIP2':'TMEM2', 'ELP1':'IKBKAP', 'HDGFL3':'HDGFRP3', 'JPT2':'HN1L', 'KHDC4':'KIAA0907', 'REXO2':'SFN', 'RXYLT1':'TMEM5', 'SQOR':'SQRDL', 'STIMATE':'TMEM110'})"
   ]
  },
  {
   "cell_type": "code",
   "execution_count": 158,
   "metadata": {},
   "outputs": [],
   "source": [
    "drug_df_cols = drug_df.columns"
   ]
  },
  {
   "cell_type": "code",
   "execution_count": 159,
   "metadata": {},
   "outputs": [],
   "source": [
    "#remove genes that aren't in the L1000 gene set\n",
    "drug_df_drop = [gene for gene in drug_df_cols[5:] if gene not in gene_array]"
   ]
  },
  {
   "cell_type": "code",
   "execution_count": 160,
   "metadata": {},
   "outputs": [],
   "source": [
    "drug_df = drug_df.drop(drug_df_drop, axis=1)"
   ]
  },
  {
   "cell_type": "code",
   "execution_count": 161,
   "metadata": {},
   "outputs": [],
   "source": [
    "cols = drug_df.columns.tolist()"
   ]
  },
  {
   "cell_type": "code",
   "execution_count": 162,
   "metadata": {},
   "outputs": [],
   "source": [
    "cols = ['sm_lincs_id'] + ['cell_type'] + cols[5:] "
   ]
  },
  {
   "cell_type": "code",
   "execution_count": 163,
   "metadata": {},
   "outputs": [],
   "source": [
    "drug_df = drug_df[cols]"
   ]
  },
  {
   "cell_type": "code",
   "execution_count": 164,
   "metadata": {},
   "outputs": [],
   "source": [
    "drug_df.insert(0, \"sig_id\", ['na']*614)"
   ]
  },
  {
   "cell_type": "code",
   "execution_count": 165,
   "metadata": {},
   "outputs": [],
   "source": [
    "drug_df.insert(2, \"pert_type\", ['trt_cp']*614)"
   ]
  },
  {
   "cell_type": "code",
   "execution_count": 166,
   "metadata": {},
   "outputs": [],
   "source": [
    "drug_df.insert(4, \"pert_idose\", ['1uM']*614)"
   ]
  },
  {
   "cell_type": "code",
   "execution_count": 168,
   "metadata": {},
   "outputs": [],
   "source": [
    "drug_df = drug_df.rename(columns={'sm_lincs_id':'pert_id', 'cell_type':'cell_id'})"
   ]
  },
  {
   "cell_type": "code",
   "execution_count": 169,
   "metadata": {},
   "outputs": [],
   "source": [
    "drug_df.to_csv('chemical_signature_kaggle.csv', index=False)"
   ]
  },
  {
   "cell_type": "code",
   "execution_count": null,
   "metadata": {},
   "outputs": [],
   "source": []
  }
 ],
 "metadata": {
  "kernelspec": {
   "display_name": "Python (tf_gpu)",
   "language": "python",
   "name": "tf_gpu"
  },
  "language_info": {
   "codemirror_mode": {
    "name": "ipython",
    "version": 3
   },
   "file_extension": ".py",
   "mimetype": "text/x-python",
   "name": "python",
   "nbconvert_exporter": "python",
   "pygments_lexer": "ipython3",
   "version": "3.6.6"
  }
 },
 "nbformat": 4,
 "nbformat_minor": 2
}
